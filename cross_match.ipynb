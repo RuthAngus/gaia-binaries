{
 "cells": [
  {
   "cell_type": "code",
   "execution_count": 1,
   "metadata": {
    "collapsed": false
   },
   "outputs": [],
   "source": [
    "import pandas as pd\n",
    "\n",
    "from gaia_kepler import data, tgas_match"
   ]
  },
  {
   "cell_type": "markdown",
   "metadata": {},
   "source": [
    "### Crossmatch the Kepler Eclipsing Binary Catalog\n",
    "http://keplerebs.villanova.edu/"
   ]
  },
  {
   "cell_type": "code",
   "execution_count": 2,
   "metadata": {
    "collapsed": false
   },
   "outputs": [],
   "source": [
    "# Load EBs from the original Kepler mission\n",
    "kebc = pd.read_csv('data/kebc.csv', comment='#')\n",
    "\n",
    "# Load EBs from the K2 mission\n",
    "k2ebc = pd.read_csv('data/k2ebc.csv', comment='#')"
   ]
  },
  {
   "cell_type": "code",
   "execution_count": 3,
   "metadata": {
    "collapsed": false
   },
   "outputs": [
    {
     "name": "stdout",
     "output_type": "stream",
     "text": [
      "324\n",
      "145\n"
     ]
    }
   ],
   "source": [
    "# Match to TGAS\n",
    "kebc_in_tgas = tgas_match(kebc)\n",
    "k2ebc_in_tgas = tgas_match(k2ebc)\n",
    "\n",
    "print len(kebc_in_tgas)\n",
    "print len(k2ebc_in_tgas)"
   ]
  },
  {
   "cell_type": "code",
   "execution_count": 4,
   "metadata": {
    "collapsed": false
   },
   "outputs": [],
   "source": [
    "# Save to CSV\n",
    "kebc_in_tgas.to_csv('data/kebc_in_tgas.csv')\n",
    "k2ebc_in_tgas.to_csv('data/k2ebc_in_tgas.csv')"
   ]
  }
 ],
 "metadata": {
  "anaconda-cloud": {},
  "kernelspec": {
   "display_name": "Python [default]",
   "language": "python",
   "name": "python2"
  },
  "language_info": {
   "codemirror_mode": {
    "name": "ipython",
    "version": 2
   },
   "file_extension": ".py",
   "mimetype": "text/x-python",
   "name": "python",
   "nbconvert_exporter": "python",
   "pygments_lexer": "ipython2",
   "version": "2.7.12"
  }
 },
 "nbformat": 4,
 "nbformat_minor": 1
}
