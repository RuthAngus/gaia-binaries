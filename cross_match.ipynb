{
 "cells": [
  {
   "cell_type": "code",
   "execution_count": 1,
   "metadata": {
    "collapsed": false
   },
   "outputs": [],
   "source": [
    "import pandas as pd\n",
    "\n",
    "from gaia_kepler import data, tgas_match"
   ]
  },
  {
   "cell_type": "markdown",
   "metadata": {},
   "source": [
    "### Crossmatch the Kepler Eclipsing Binary Catalog\n",
    "http://keplerebs.villanova.edu/"
   ]
  },
  {
   "cell_type": "code",
   "execution_count": 2,
   "metadata": {
    "collapsed": false
   },
   "outputs": [],
   "source": [
    "# Load EBs from the original Kepler mission\n",
    "kebc = pd.read_csv('data/kebc.csv', comment='#')\n",
    "\n",
    "# Load EBs from the K2 mission\n",
    "k2ebc = pd.read_csv('data/k2ebc.csv', comment='#')"
   ]
  },
  {
   "cell_type": "code",
   "execution_count": 3,
   "metadata": {
    "collapsed": false
   },
   "outputs": [
    {
     "name": "stdout",
     "output_type": "stream",
     "text": [
      "324\n",
      "145\n"
     ]
    }
   ],
   "source": [
    "# Match to TGAS\n",
    "kebc_in_tgas = tgas_match(kebc)\n",
    "k2ebc_in_tgas = tgas_match(k2ebc)\n",
    "\n",
    "print len(kebc_in_tgas)\n",
    "print len(k2ebc_in_tgas)"
   ]
  },
  {
   "cell_type": "code",
   "execution_count": 4,
   "metadata": {
    "collapsed": false
   },
   "outputs": [],
   "source": [
    "# Save to CSV\n",
    "kebc_in_tgas.to_csv('data/kebc_in_tgas.csv')\n",
    "k2ebc_in_tgas.to_csv('data/k2ebc_in_tgas.csv')"
   ]
  },
  {
   "cell_type": "markdown",
   "metadata": {},
   "source": [
    "### Crossmatch SB9 (spectroscopic binaries)\n",
    "http://sb9.astro.ulb.ac.be/\n",
    "\n",
    "http://vizier.cfa.harvard.edu/viz-bin/VizieR?-source=B/sb9\n",
    "\n",
    "SB9 is comprised of three tables\n",
    "\n",
    "* main: positions, magnitudes, and spectral types\n",
    "* orbits: orbital parameters\n",
    "* alias: other designations\n",
    "\n",
    "I joined the main and orbits tables on VizieR, matching by system number (Seq). Some systems have multiple orbits, so take the orbit with the best grade. grade 0 = poor, grade 5 = definitive.\n",
    "\n",
    "I'm using the decimal RA and DEC computed by VizieR in FK5."
   ]
  },
  {
   "cell_type": "code",
   "execution_count": 10,
   "metadata": {
    "collapsed": false
   },
   "outputs": [],
   "source": [
    "sb9 = pd.read_csv('data/sb9_join.tsv', delimiter='|', comment='#')"
   ]
  },
  {
   "cell_type": "code",
   "execution_count": 11,
   "metadata": {
    "collapsed": false
   },
   "outputs": [],
   "source": [
    "# Only keep systems with orbit grades >= 3\n",
    "sb9 = sb9[sb9['Grade'].astype(int) >= 3]"
   ]
  },
  {
   "cell_type": "code",
   "execution_count": 12,
   "metadata": {
    "collapsed": false
   },
   "outputs": [],
   "source": [
    "# For duplicates, keep orbits with the higher grade\n",
    "sb9 = sb9.sort_values(['Seq', 'Grade'], ascending=[True, False])\n",
    "sb9 = sb9.drop_duplicates(subset='Seq')"
   ]
  },
  {
   "cell_type": "code",
   "execution_count": 13,
   "metadata": {
    "collapsed": false
   },
   "outputs": [
    {
     "name": "stdout",
     "output_type": "stream",
     "text": [
      "721\n"
     ]
    }
   ],
   "source": [
    "sb9_in_tgas = tgas_match(sb9)\n",
    "print len(sb9_in_tgas)"
   ]
  },
  {
   "cell_type": "code",
   "execution_count": 15,
   "metadata": {
    "collapsed": false
   },
   "outputs": [],
   "source": [
    "sb9_in_tgas.to_csv('data/sb9_in_tgas.csv')"
   ]
  },
  {
   "cell_type": "code",
   "execution_count": null,
   "metadata": {
    "collapsed": true
   },
   "outputs": [],
   "source": []
  }
 ],
 "metadata": {
  "anaconda-cloud": {},
  "kernelspec": {
   "display_name": "Python [default]",
   "language": "python",
   "name": "python2"
  },
  "language_info": {
   "codemirror_mode": {
    "name": "ipython",
    "version": 2
   },
   "file_extension": ".py",
   "mimetype": "text/x-python",
   "name": "python",
   "nbconvert_exporter": "python",
   "pygments_lexer": "ipython2",
   "version": "2.7.12"
  }
 },
 "nbformat": 4,
 "nbformat_minor": 1
}
