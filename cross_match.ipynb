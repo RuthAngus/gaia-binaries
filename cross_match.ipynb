{
 "cells": [
  {
   "cell_type": "code",
   "execution_count": 1,
   "metadata": {
    "collapsed": false
   },
   "outputs": [],
   "source": [
    "import pandas as pd\n",
    "import numpy as np\n",
    "import matplotlib.pyplot as plt\n",
    "from astropy import units as u\n",
    "from astropy.coordinates import SkyCoord\n",
    "\n",
    "from gaia_kepler import data, tgas_match\n",
    "\n",
    "% matplotlib inline"
   ]
  },
  {
   "cell_type": "markdown",
   "metadata": {},
   "source": [
    "### Crossmatch the Kepler Eclipsing Binary Catalog\n",
    "http://keplerebs.villanova.edu/"
   ]
  },
  {
   "cell_type": "code",
   "execution_count": 2,
   "metadata": {
    "collapsed": false
   },
   "outputs": [],
   "source": [
    "# Load EBs from the original Kepler mission\n",
    "kebc = pd.read_csv('data/kebc.csv', comment='#')\n",
    "\n",
    "# Load EBs from the K2 mission\n",
    "k2ebc = pd.read_csv('data/k2ebc.csv', comment='#')"
   ]
  },
  {
   "cell_type": "code",
   "execution_count": 3,
   "metadata": {
    "collapsed": false
   },
   "outputs": [
    {
     "name": "stdout",
     "output_type": "stream",
     "text": [
      "324\n",
      "145\n"
     ]
    }
   ],
   "source": [
    "# Match to TGAS\n",
    "kebc_in_tgas = tgas_match(kebc)\n",
    "k2ebc_in_tgas = tgas_match(k2ebc)\n",
    "\n",
    "print len(kebc_in_tgas)\n",
    "print len(k2ebc_in_tgas)"
   ]
  },
  {
   "cell_type": "code",
   "execution_count": 4,
   "metadata": {
    "collapsed": false
   },
   "outputs": [],
   "source": [
    "# Save to CSV\n",
    "kebc_in_tgas.to_csv('data/kebc_in_tgas.csv')\n",
    "k2ebc_in_tgas.to_csv('data/k2ebc_in_tgas.csv')"
   ]
  },
  {
   "cell_type": "markdown",
   "metadata": {},
   "source": [
    "### Crossmatch SB9 (spectroscopic binaries)\n",
    "http://sb9.astro.ulb.ac.be/\n",
    "\n",
    "http://vizier.cfa.harvard.edu/viz-bin/VizieR?-source=B/sb9\n",
    "\n",
    "SB9 is comprised of three tables\n",
    "\n",
    "* main: positions, magnitudes, and spectral types\n",
    "* orbits: orbital parameters\n",
    "* alias: other designations\n",
    "\n",
    "I joined the main and orbits tables on VizieR, matching by system number (Seq). Some systems have multiple orbits, so take the orbit with the best grade. grade 0 = poor, grade 5 = definitive.\n",
    "\n",
    "I'm using the decimal RA and DEC computed by VizieR in FK5."
   ]
  },
  {
   "cell_type": "code",
   "execution_count": 5,
   "metadata": {
    "collapsed": false
   },
   "outputs": [],
   "source": [
    "sb9 = pd.read_csv('data/sb9_join.tsv', delimiter='|', comment='#')"
   ]
  },
  {
   "cell_type": "code",
   "execution_count": 6,
   "metadata": {
    "collapsed": false
   },
   "outputs": [],
   "source": [
    "# Only keep systems with orbit grades >= 3\n",
    "sb9 = sb9[sb9['Grade'].astype(int) >= 3]"
   ]
  },
  {
   "cell_type": "code",
   "execution_count": 7,
   "metadata": {
    "collapsed": false
   },
   "outputs": [],
   "source": [
    "# For duplicates, keep orbits with the higher grade\n",
    "sb9 = sb9.sort_values(['Seq', 'Grade'], ascending=[True, False])\n",
    "sb9 = sb9.drop_duplicates(subset='Seq')"
   ]
  },
  {
   "cell_type": "code",
   "execution_count": 8,
   "metadata": {
    "collapsed": false
   },
   "outputs": [
    {
     "name": "stdout",
     "output_type": "stream",
     "text": [
      "721\n"
     ]
    }
   ],
   "source": [
    "sb9_in_tgas = tgas_match(sb9)\n",
    "print len(sb9_in_tgas)"
   ]
  },
  {
   "cell_type": "code",
   "execution_count": 9,
   "metadata": {
    "collapsed": false
   },
   "outputs": [],
   "source": [
    "sb9_in_tgas.to_csv('data/sb9_in_tgas.csv')"
   ]
  },
  {
   "cell_type": "markdown",
   "metadata": {},
   "source": [
    "### Crossmatch the Sixth Catalog of Orbits of Visual Catalogs\n",
    "http://www.usno.navy.mil/USNO/astrometry/optical-IR-prod/wds/orb6\n",
    "\n",
    "I'm only keeping systems with orbital solutions graded as 1 (definitive), 2 (good), or 3 (reliable)."
   ]
  },
  {
   "cell_type": "code",
   "execution_count": 10,
   "metadata": {
    "collapsed": false
   },
   "outputs": [],
   "source": [
    "vb6 = pd.read_csv('data/visual_6_orbits.sql', delimiter='|', comment='#', \n",
    "                  dtype={'ra_str': str, 'dec_str': str})\n",
    "\n",
    "# Only keep systems with grade 3 or better\n",
    "vb6 = vb6[vb6['G'] <= 3]"
   ]
  },
  {
   "cell_type": "code",
   "execution_count": 11,
   "metadata": {
    "collapsed": false
   },
   "outputs": [],
   "source": [
    "# Convert period in years to days\n",
    "vb6.loc[:, 'period_days'] = vb6['period']\n",
    "vb6.loc[vb6['period_units'] == 'y', 'period_days'] = vb6['period'][vb6['period_units'] == 'y'] * 365.2422 "
   ]
  },
  {
   "cell_type": "code",
   "execution_count": 12,
   "metadata": {
    "collapsed": false
   },
   "outputs": [],
   "source": [
    "def decimal_degrees(ra_str, dec_str):\n",
    "    \"\"\"\n",
    "    Convert the Visual Binary Catalog RA and DEC to decimal degrees.\n",
    "    \n",
    "    Parameters\n",
    "    ----------\n",
    "    ra_str, dec_str : str\n",
    "        RA in HHMMSS, DEC in DDMMSS\n",
    "    \n",
    "    Returns\n",
    "    -------\n",
    "    ra_deg, dec_deg : float\n",
    "        RA and DEC in decimal degrees\n",
    "    \"\"\"\n",
    "    new_ra_str = '{}h{}m{}s'.format(ra_str[:2], ra_str[2:4], ra_str[4:])\n",
    "    new_dec_str = '{}d{}m{}s'.format(dec_str[:3], dec_str[3:5], dec_str[5:])\n",
    "    \n",
    "    coord = SkyCoord(new_ra_str, new_dec_str, frame='icrs')\n",
    "    \n",
    "    return coord.ra.deg, coord.dec.deg"
   ]
  },
  {
   "cell_type": "code",
   "execution_count": 13,
   "metadata": {
    "collapsed": false
   },
   "outputs": [],
   "source": [
    "# \"Empty\" arrays for RA and DEC\n",
    "ra_deg = np.repeat([-1.], len(vb6))\n",
    "dec_deg = np.repeat([-99.], len(vb6))"
   ]
  },
  {
   "cell_type": "code",
   "execution_count": 14,
   "metadata": {
    "collapsed": false
   },
   "outputs": [],
   "source": [
    "for ii, index in enumerate(vb6.index):\n",
    "    ra, dec = decimal_degrees(vb6['ra_str'][index], vb6['dec_str'][index])\n",
    "    ra_deg[ii] = ra\n",
    "    dec_deg[ii] = dec"
   ]
  },
  {
   "cell_type": "code",
   "execution_count": 15,
   "metadata": {
    "collapsed": true
   },
   "outputs": [],
   "source": [
    "# Add columns to DataFrame\n",
    "vb6.loc[:, 'ra'] = ra_deg\n",
    "vb6.loc[:, 'dec'] = dec_deg"
   ]
  },
  {
   "cell_type": "code",
   "execution_count": 16,
   "metadata": {
    "collapsed": false
   },
   "outputs": [
    {
     "name": "stdout",
     "output_type": "stream",
     "text": [
      "105\n"
     ]
    }
   ],
   "source": [
    "vb6_in_tgas = tgas_match(vb6)\n",
    "print len(vb6_in_tgas)"
   ]
  },
  {
   "cell_type": "code",
   "execution_count": 17,
   "metadata": {
    "collapsed": false
   },
   "outputs": [],
   "source": [
    "vb6_in_tgas.to_csv('data/vb6_in_tgas.csv')"
   ]
  },
  {
   "cell_type": "markdown",
   "metadata": {},
   "source": [
    "### Concatenate the catalogs"
   ]
  },
  {
   "cell_type": "code",
   "execution_count": 18,
   "metadata": {
    "collapsed": true
   },
   "outputs": [],
   "source": [
    "tgas_columns = vb6_in_tgas.columns[np.array(['tgas' in column for column in vb6_in_tgas.columns])]"
   ]
  },
  {
   "cell_type": "code",
   "execution_count": 20,
   "metadata": {
    "collapsed": false
   },
   "outputs": [],
   "source": [
    "# Keep orbital period, catalog identifiers, and TGAS columns\n",
    "kebc_to_concat = kebc_in_tgas[np.concatenate([['period', 'KIC'], tgas_columns])]\n",
    "k2ebc_to_concat = k2ebc_in_tgas[np.concatenate([['period', 'EPIC'], tgas_columns])]\n",
    "\n",
    "sb9_to_concat = sb9_in_tgas[np.concatenate([['Per', 'Seq'], tgas_columns])]\n",
    "sb9_to_concat.rename(columns={'Per': 'period', 'Seq': 'sb9_id'}, inplace='True')\n",
    "\n",
    "vb6_to_concat = vb6_in_tgas[np.concatenate([['period_days', 'WDS'], tgas_columns])]\n",
    "vb6_to_concat.rename(columns={'period_days': 'period'}, inplace='True')"
   ]
  },
  {
   "cell_type": "code",
   "execution_count": 21,
   "metadata": {
    "collapsed": false
   },
   "outputs": [
    {
     "name": "stdout",
     "output_type": "stream",
     "text": [
      "Total binaries: 1295\n"
     ]
    }
   ],
   "source": [
    "# Concatenate DataFrames\n",
    "all_systems = pd.concat([kebc_to_concat, k2ebc_to_concat, sb9_to_concat, vb6_to_concat], ignore_index=True)\n",
    "print 'Total binaries: {}'.format(len(all_systems))"
   ]
  },
  {
   "cell_type": "code",
   "execution_count": 22,
   "metadata": {
    "collapsed": false
   },
   "outputs": [],
   "source": [
    "# Populate a binary_type column\n",
    "all_systems.loc[:, 'binary_type'] = np.repeat(['None'], len(all_systems))\n",
    "\n",
    "eb_mask = np.isfinite(all_systems['KIC']) | np.isfinite(all_systems['EPIC'])\n",
    "all_systems.loc[eb_mask, 'binary_type'] = 'EB'\n",
    "\n",
    "sb_mask = np.isfinite(all_systems['sb9_id'])\n",
    "all_systems.loc[sb_mask, 'binary_type'] = 'SB'\n",
    "\n",
    "all_systems['WDS'].fillna(value='', inplace=True)\n",
    "vb_mask = all_systems['WDS'] != ''\n",
    "all_systems.loc[vb_mask, 'binary_type'] = 'VB'"
   ]
  },
  {
   "cell_type": "code",
   "execution_count": 23,
   "metadata": {
    "collapsed": false
   },
   "outputs": [],
   "source": [
    "all_systems.to_csv('combined_catalog.csv')"
   ]
  },
  {
   "cell_type": "markdown",
   "metadata": {},
   "source": [
    "### Plot the orbital period distributions of the crossmatches"
   ]
  },
  {
   "cell_type": "code",
   "execution_count": 24,
   "metadata": {
    "collapsed": true
   },
   "outputs": [],
   "source": [
    "log_period_bins = np.arange(-1.5, 5.5, 0.25)"
   ]
  },
  {
   "cell_type": "code",
   "execution_count": 25,
   "metadata": {
    "collapsed": false
   },
   "outputs": [
    {
     "data": {
      "image/png": "[encoded data removed]",
      "text/plain": [
       "<matplotlib.figure.Figure at 0x1182bcb90>"
      ]
     },
     "metadata": {},
     "output_type": "display_data"
    }
   ],
   "source": [
    "plt.figure(figsize=(8, 6))\n",
    "plt.hist(np.log10(all_systems[all_systems['binary_type'] == 'VB']['period']), \n",
    "         bins=log_period_bins, histtype='step', label='Visual')\n",
    "plt.hist(np.log10(all_systems[all_systems['binary_type'] == 'SB']['period']), \n",
    "         bins=log_period_bins, histtype='step', label='Spectroscopic')\n",
    "plt.hist(np.log10(all_systems[all_systems['binary_type'] == 'EB']['period']), \n",
    "         bins=log_period_bins, histtype='step', label='Kepler EBs')\n",
    "plt.hist(np.log10(all_systems['period']), bins=log_period_bins, histtype='step', color='k', label='All')\n",
    "\n",
    "plt.xlabel('log(P_orb) (days)', fontsize=16)\n",
    "plt.ylabel('Number of Systems')\n",
    "plt.legend()\n",
    "plt.show()"
   ]
  }
 ],
 "metadata": {
  "anaconda-cloud": {},
  "kernelspec": {
   "display_name": "Python [default]",
   "language": "python",
   "name": "python2"
  },
  "language_info": {
   "codemirror_mode": {
    "name": "ipython",
    "version": 2
   },
   "file_extension": ".py",
   "mimetype": "text/x-python",
   "name": "python",
   "nbconvert_exporter": "python",
   "pygments_lexer": "ipython2",
   "version": "2.7.12"
  }
 },
 "nbformat": 4,
 "nbformat_minor": 1
}
